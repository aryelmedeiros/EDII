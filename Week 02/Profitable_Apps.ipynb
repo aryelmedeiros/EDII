{
  "nbformat": 4,
  "nbformat_minor": 0,
  "metadata": {
    "colab": {
      "provenance": [],
      "collapsed_sections": []
    },
    "kernelspec": {
      "name": "python3",
      "display_name": "Python 3"
    },
    "language_info": {
      "name": "python"
    }
  },
  "cells": [
    {
      "cell_type": "markdown",
      "source": [
        "# Abrindo os dados de cada um dos arquivos csv"
      ],
      "metadata": {
        "id": "RJTvjXCkdZdD"
      }
    },
    {
      "cell_type": "code",
      "execution_count": 7,
      "metadata": {
        "colab": {
          "base_uri": "https://localhost:8080/"
        },
        "id": "VVLIYKRSV5GI",
        "outputId": "6456fc0a-847f-42c4-b82d-166f70f72ef4"
      },
      "outputs": [
        {
          "output_type": "stream",
          "name": "stdout",
          "text": [
            "['id', 'track_name', 'size_bytes', 'currency', 'price', 'rating_count_tot', 'rating_count_ver', 'user_rating', 'user_rating_ver', 'ver', 'cont_rating', 'prime_genre', 'sup_devices.num', 'ipadSc_urls.num', 'lang.num', 'vpp_lic'] \n",
            "\n",
            "['389801252', 'Instagram', '113954816', 'USD', '0.0', '2161558', '1289', '4.5', '4.0', '10.23', '12+', 'Photo & Video', '37', '0', '29', '1']\n",
            "\n",
            "\n",
            "Numero de Linhas: 7197\n",
            "Numero de Colunas: 16\n",
            "\n",
            "\n",
            "['Coloring book moana', 'ART_AND_DESIGN', '3.9', '967', '14M', '500,000+', 'Free', '0', 'Everyone', 'Art & Design;Pretend Play', 'January 15, 2018', '2.0.0', '4.0.3 and up']\n",
            "\n",
            "\n",
            "Numero de Linhas: 10841\n",
            "Numero de Colunas: 13\n",
            "\n",
            "\n",
            "['App', 'Category', 'Rating', 'Reviews', 'Size', 'Installs', 'Type', 'Price', 'Content Rating', 'Genres', 'Last Updated', 'Current Ver', 'Android Ver']\n",
            "['Life Made WI-Fi Touchscreen Photo Frame', '1.9', '19', '3.0M', '1,000+', 'Free', '0', 'Everyone', '', 'February 11, 2018', '1.0.19', '4.0 and up']\n"
          ]
        }
      ],
      "source": [
        "from csv import reader\n",
        "\n",
        "def explore_data(dataset, start, end, rows_and_columns=False):\n",
        "    dataset_slice = dataset[start:end]    \n",
        "    for row in dataset_slice:\n",
        "        print(row)\n",
        "        print('\\n') # adds a new (empty) line after each row\n",
        "\n",
        "    if rows_and_columns:\n",
        "        print('Numero de Linhas:', len(dataset))\n",
        "        print('Numero de Colunas:', len(dataset[0]))\n",
        "        print('\\n')\n",
        "\n",
        "#lendo os dados da Apple Store\n",
        "opened_file = open('AppleStore.csv')\n",
        "read_file = reader(opened_file)\n",
        "ios = list(read_file)\n",
        "ios_header = ios[0]\n",
        "ios = ios[1:]\n",
        "\n",
        "#lendo os dados da Google \n",
        "opened_file = open('googleplaystore.csv')\n",
        "read_file = reader(opened_file)\n",
        "android = list(read_file)\n",
        "android_header = android[0]\n",
        "android = android[1:]\n",
        "\n",
        "print(ios_header, '\\n')\n",
        "\n",
        "\n",
        "explore_data(ios, 1,2,True)\n",
        "explore_data(android, 1,2, True)\n",
        "\n",
        "print(android_header)\n",
        "print(android[10472])\n",
        "\n"
      ]
    },
    {
      "cell_type": "markdown",
      "source": [
        "Deletando as linhas que não contem todas as infos necessarias"
      ],
      "metadata": {
        "id": "DFk38eBEdlSx"
      }
    },
    {
      "cell_type": "code",
      "source": [
        "print(\"Dados incorretos da Google Play Store:\")\n",
        "for rows in android:\n",
        "  if len(rows) != len(android_header):\n",
        "    print(android.index(rows))\n",
        "\n",
        "print(\"Dados incorretos da Apple Store:\")\n",
        "for rows in ios:\n",
        "  if len(rows) != len(ios_header):\n",
        "    print(ios.index(rows))"
      ],
      "metadata": {
        "colab": {
          "base_uri": "https://localhost:8080/"
        },
        "id": "nP_HOs50du2c",
        "outputId": "7a5419a7-a123-4796-f33b-31699b32ba6d"
      },
      "execution_count": 5,
      "outputs": [
        {
          "output_type": "stream",
          "name": "stdout",
          "text": [
            "Dados incorretos da Google Play Store\n",
            "10472\n",
            "Dados incorretos da Apple Store\n"
          ]
        }
      ]
    },
    {
      "cell_type": "markdown",
      "source": [
        "Descoobrimos que os dados da Google Play Store contém uma linha com o numero de informações diferente do cabeçalho, essa linha é a de indice 10472. Portanto devemos exlui-lá"
      ],
      "metadata": {
        "id": "62MmB0e_fGsG"
      }
    },
    {
      "cell_type": "code",
      "source": [
        "del android[10472]\n",
        "explore_data(android,1,2, True)"
      ],
      "metadata": {
        "colab": {
          "base_uri": "https://localhost:8080/"
        },
        "id": "Js5xr-IMfYst",
        "outputId": "91fa5a43-f161-4556-d472-c945aaeb129c"
      },
      "execution_count": 11,
      "outputs": [
        {
          "output_type": "stream",
          "name": "stdout",
          "text": [
            "['Coloring book moana', 'ART_AND_DESIGN', '3.9', '967', '14M', '500,000+', 'Free', '0', 'Everyone', 'Art & Design;Pretend Play', 'January 15, 2018', '2.0.0', '4.0.3 and up']\n",
            "\n",
            "\n",
            "Numero de Linhas: 10840\n",
            "Numero de Colunas: 13\n",
            "\n",
            "\n"
          ]
        }
      ]
    },
    {
      "cell_type": "markdown",
      "source": [
        "Identificando e removendo Duplicatas. As duplicatas serão removidas, mantendo somente aquela com o maior numero de reviews entre todas. Isso porque o maior numero de reviews indica que os dados mais recentes."
      ],
      "metadata": {
        "id": "8CmfiYf4hSXY"
      }
    },
    {
      "cell_type": "code",
      "source": [
        "\n",
        "def duplicados(datasets):\n",
        "  apps_duplicados = []\n",
        "  apps_unicos = []\n",
        "  for apps in datasets:\n",
        "    if apps[0] in apps_unicos:\n",
        "      apps_duplicados.append(apps[0])\n",
        "    else:\n",
        "      apps_unicos.append(apps[0])\n",
        "  \n",
        "  print(\"Quant. de Apps duplicados:\", len(apps_duplicados))\n",
        "  return(len(apps_duplicados))\n",
        "\n",
        "android_d = duplicados(android)\n",
        "ios_d = duplicados(ios)\n",
        "\n",
        "## Somente o Google Play Store possui duplicatas \n",
        "\n",
        "reviews_max = {}\n",
        "\n",
        "for app in android:\n",
        "    nome = app[0]\n",
        "    n_reviews = float(app[3]) ## coluna do numero de reviews \n",
        "    \n",
        "    if nome in reviews_max and reviews_max[nome] < n_reviews:\n",
        "        reviews_max[nome] = n_reviews\n",
        "        \n",
        "    elif nome not in reviews_max:\n",
        "        reviews_max[nome] = n_reviews\n",
        "\n",
        "android_clean = [] #Tabela com correções de Duplicatas \n",
        "adicionados = [] #Nome dos apps sem remo\n",
        "\n",
        "for app in android:\n",
        "    name = app[0]\n",
        "    n_reviews = float(app[3])\n",
        "    \n",
        "    if (reviews_max[name] == n_reviews) and (name not in adicionados):\n",
        "        android_clean.append(app)\n",
        "        adicionados.append(name) \n",
        "\n",
        "print(len(android_clean)) #verificando se o numero correto de duplicatas foi removido \n",
        "print(len(adicionados))\n"
      ],
      "metadata": {
        "colab": {
          "base_uri": "https://localhost:8080/"
        },
        "id": "XTpbqGAvhWKO",
        "outputId": "ed7dd65b-4570-450f-faa1-d5ccc61aa701"
      },
      "execution_count": 12,
      "outputs": [
        {
          "output_type": "stream",
          "name": "stdout",
          "text": [
            "Quant. de Apps duplicados: 1181\n",
            "Quant. de Apps duplicados: 0\n",
            "9659\n",
            "9659\n"
          ]
        }
      ]
    },
    {
      "cell_type": "markdown",
      "source": [
        "Remoção dos Apps que não estão em Inglês. Cada um dos caracteres do idioma ingles estão entre os indicies 0 a 127 da tabela ASCII."
      ],
      "metadata": {
        "id": "Y1hsbLlXpDGr"
      }
    },
    {
      "cell_type": "code",
      "source": [
        "def em_ingles(nome): #caso o nome possuma pelo menos 3 caracteres que estão no indice maior que 127 da tabela ASCII, então o nome é considerado de outro idioma\n",
        "  non_ascii = 0\n",
        "  for character in nome:\n",
        "\n",
        "    if ord(character) > 127:\n",
        "      non_ascii += 1\n",
        "\n",
        "  if(non_ascii >3):\n",
        "    return False\n",
        "  else:\n",
        "    return True\n",
        "\n",
        "print(em_ingles('Instagram'))\n",
        "print(em_ingles('爱奇艺PPS -《欢乐颂2》电视剧热播'))\n",
        "print(em_ingles('Docs To Go™ Free Office Suite'))\n",
        "print(em_ingles('Instachat 😜'))\n",
        "\n",
        "#Remover os apps que não estão em Ingles\n",
        "\n",
        "android_en = []\n",
        "ios_en = []\n",
        "\n",
        "for apps in android_clean:\n",
        "  nome = apps[0]\n",
        "\n",
        "  if em_ingles(nome):\n",
        "    android_en.append(apps)\n",
        "\n",
        "for apps in ios:\n",
        "  nome = apps[1]\n",
        "\n",
        "  if em_ingles(nome):\n",
        "    ios_en.append(apps)\n",
        "\n",
        "explore_data(android_en, 0, 3, True)\n",
        "explore_data(ios_en, 0, 3, True)\n",
        "\n"
      ],
      "metadata": {
        "colab": {
          "base_uri": "https://localhost:8080/"
        },
        "id": "qBuyj1Q0pAoO",
        "outputId": "622bf0bf-6a65-4651-fd61-de71d18e4760"
      },
      "execution_count": 21,
      "outputs": [
        {
          "output_type": "stream",
          "name": "stdout",
          "text": [
            "True\n",
            "False\n",
            "True\n",
            "True\n",
            "['Photo Editor & Candy Camera & Grid & ScrapBook', 'ART_AND_DESIGN', '4.1', '159', '19M', '10,000+', 'Free', '0', 'Everyone', 'Art & Design', 'January 7, 2018', '1.0.0', '4.0.3 and up']\n",
            "\n",
            "\n",
            "['U Launcher Lite â€“ FREE Live Cool Themes, Hide Apps', 'ART_AND_DESIGN', '4.7', '87510', '8.7M', '5,000,000+', 'Free', '0', 'Everyone', 'Art & Design', 'August 1, 2018', '1.2.4', '4.0.3 and up']\n",
            "\n",
            "\n",
            "['Sketch - Draw & Paint', 'ART_AND_DESIGN', '4.5', '215644', '25M', '50,000,000+', 'Free', '0', 'Teen', 'Art & Design', 'June 8, 2018', 'Varies with device', '4.2 and up']\n",
            "\n",
            "\n",
            "Numero de Linhas: 9500\n",
            "Numero de Colunas: 13\n",
            "\n",
            "\n",
            "['284882215', 'Facebook', '389879808', 'USD', '0.0', '2974676', '212', '3.5', '3.5', '95.0', '4+', 'Social Networking', '37', '1', '29', '1']\n",
            "\n",
            "\n",
            "['389801252', 'Instagram', '113954816', 'USD', '0.0', '2161558', '1289', '4.5', '4.0', '10.23', '12+', 'Photo & Video', '37', '0', '29', '1']\n",
            "\n",
            "\n",
            "['529479190', 'Clash of Clans', '116476928', 'USD', '0.0', '2130805', '579', '4.5', '4.5', '9.24.12', '9+', 'Games', '38', '5', '18', '1']\n",
            "\n",
            "\n",
            "Numero de Linhas: 6100\n",
            "Numero de Colunas: 16\n",
            "\n",
            "\n"
          ]
        }
      ]
    },
    {
      "cell_type": "markdown",
      "source": [
        "removendo os apps que não são Free"
      ],
      "metadata": {
        "id": "UmY8FaD4vKY-"
      }
    },
    {
      "cell_type": "code",
      "source": [
        "ios_free = []\n",
        "android_free = []\n",
        "\n",
        "for apps in android_en:\n",
        "  tipo = apps[7]\n",
        "  if tipo == '0':\n",
        "    android_free.append(apps)\n",
        "\n",
        "for apps in ios_en:\n",
        "  tipo = apps[4]\n",
        "  if tipo == '0.0':\n",
        "    ios_free.append(apps)\n",
        "\n",
        "print(len(android_free))\n",
        "print(len(ios_free))\n",
        "\n",
        "explore_data(android_free,1, 5, True)\n",
        "explore_data(ios_free, 1, 5, True )\n"
      ],
      "metadata": {
        "colab": {
          "base_uri": "https://localhost:8080/"
        },
        "id": "BSkOpwngvN2s",
        "outputId": "1b45a816-b8d5-4bb3-f2fc-399a7c236fca"
      },
      "execution_count": 26,
      "outputs": [
        {
          "output_type": "stream",
          "name": "stdout",
          "text": [
            "8760\n",
            "3169\n",
            "['U Launcher Lite â€“ FREE Live Cool Themes, Hide Apps', 'ART_AND_DESIGN', '4.7', '87510', '8.7M', '5,000,000+', 'Free', '0', 'Everyone', 'Art & Design', 'August 1, 2018', '1.2.4', '4.0.3 and up']\n",
            "\n",
            "\n",
            "['Sketch - Draw & Paint', 'ART_AND_DESIGN', '4.5', '215644', '25M', '50,000,000+', 'Free', '0', 'Teen', 'Art & Design', 'June 8, 2018', 'Varies with device', '4.2 and up']\n",
            "\n",
            "\n",
            "['Pixel Draw - Number Art Coloring Book', 'ART_AND_DESIGN', '4.3', '967', '2.8M', '100,000+', 'Free', '0', 'Everyone', 'Art & Design;Creativity', 'June 20, 2018', '1.1', '4.4 and up']\n",
            "\n",
            "\n",
            "['Paper flowers instructions', 'ART_AND_DESIGN', '4.4', '167', '5.6M', '50,000+', 'Free', '0', 'Everyone', 'Art & Design', 'March 26, 2017', '1.0', '2.3 and up']\n",
            "\n",
            "\n",
            "Numero de Linhas: 8760\n",
            "Numero de Colunas: 13\n",
            "\n",
            "\n",
            "['389801252', 'Instagram', '113954816', 'USD', '0.0', '2161558', '1289', '4.5', '4.0', '10.23', '12+', 'Photo & Video', '37', '0', '29', '1']\n",
            "\n",
            "\n",
            "['529479190', 'Clash of Clans', '116476928', 'USD', '0.0', '2130805', '579', '4.5', '4.5', '9.24.12', '9+', 'Games', '38', '5', '18', '1']\n",
            "\n",
            "\n",
            "['420009108', 'Temple Run', '65921024', 'USD', '0.0', '1724546', '3842', '4.5', '4.0', '1.6.2', '9+', 'Games', '40', '5', '1', '1']\n",
            "\n",
            "\n",
            "['284035177', 'Pandora - Music & Radio', '130242560', 'USD', '0.0', '1126879', '3594', '4.0', '4.5', '8.4.1', '12+', 'Music', '37', '4', '1', '1']\n",
            "\n",
            "\n",
            "Numero de Linhas: 3169\n",
            "Numero de Colunas: 16\n",
            "\n",
            "\n"
          ]
        }
      ]
    },
    {
      "cell_type": "markdown",
      "source": [
        "Analise dos generos de Apps mais comuns "
      ],
      "metadata": {
        "id": "csjlMP_G96dj"
      }
    },
    {
      "cell_type": "code",
      "source": [
        "def freq_table(dataset, index):\n",
        "    table = {}\n",
        "    total = 0\n",
        "    \n",
        "    for row in dataset:\n",
        "        total += 1\n",
        "        value = row[index]\n",
        "        if value in table:\n",
        "            table[value] += 1\n",
        "        else:\n",
        "            table[value] = 1\n",
        "    \n",
        "    table_percentages = {}\n",
        "    for key in table:\n",
        "        percentage = (table[key] / total) * 100\n",
        "        table_percentages[key] = percentage \n",
        "    \n",
        "    return table_percentages\n",
        "\n",
        "\n",
        "def display_table(dataset, index):\n",
        "    table = freq_table(dataset, index)\n",
        "    table_display = []\n",
        "    for key in table:\n",
        "        key_val_as_tuple = (table[key], key)\n",
        "        table_display.append(key_val_as_tuple)\n",
        "        \n",
        "    table_sorted = sorted(table_display, reverse = True)\n",
        "    for entry in table_sorted:\n",
        "        print(entry[1], ':', entry[0])\n",
        "\n",
        "display_table(ios_free, -5) #Prime_genere\n",
        "print('\\n')\n",
        "display_table(android_free, 1) # Category\n",
        "print('\\n')\n",
        "display_table(android_free, -4)\n",
        "print('\\n')"
      ],
      "metadata": {
        "colab": {
          "base_uri": "https://localhost:8080/"
        },
        "id": "G9hOOQc-9_aI",
        "outputId": "5eae693e-d6fa-4fea-f915-052e0e18e495"
      },
      "execution_count": 29,
      "outputs": [
        {
          "output_type": "stream",
          "name": "stdout",
          "text": [
            "Games : 58.53581571473651\n",
            "Entertainment : 7.82581255916693\n",
            "Photo & Video : 5.0489113284947935\n",
            "Education : 3.72357210476491\n",
            "Social Networking : 3.2817923635216157\n",
            "Shopping : 2.5244556642473968\n",
            "Utilities : 2.398232881035027\n",
            "Sports : 2.1773430104133795\n",
            "Music : 2.0511202272010096\n",
            "Health & Fitness : 1.9880088355948247\n",
            "Productivity : 1.7040075733669928\n",
            "Lifestyle : 1.5462290943515304\n",
            "News : 1.3253392237298833\n",
            "Travel : 1.1360050489113285\n",
            "Finance : 1.1044493531082362\n",
            "Weather : 0.8520037866834964\n",
            "Food & Drink : 0.8204480908804039\n",
            "Reference : 0.5364468286525718\n",
            "Business : 0.5364468286525718\n",
            "Book : 0.3786683496371095\n",
            "Navigation : 0.18933417481855475\n",
            "Medical : 0.18933417481855475\n",
            "Catalogs : 0.12622278321236985\n",
            "\n",
            "\n",
            "FAMILY : 18.938356164383563\n",
            "GAME : 9.657534246575343\n",
            "TOOLS : 8.481735159817351\n",
            "BUSINESS : 4.646118721461187\n",
            "PRODUCTIVITY : 3.9383561643835616\n",
            "LIFESTYLE : 3.9155251141552516\n",
            "FINANCE : 3.721461187214612\n",
            "MEDICAL : 3.550228310502283\n",
            "SPORTS : 3.3333333333333335\n",
            "PERSONALIZATION : 3.287671232876712\n",
            "COMMUNICATION : 3.2534246575342465\n",
            "HEALTH_AND_FITNESS : 3.093607305936073\n",
            "PHOTOGRAPHY : 2.9794520547945202\n",
            "NEWS_AND_MAGAZINES : 2.808219178082192\n",
            "SOCIAL : 2.6484018264840183\n",
            "TRAVEL_AND_LOCAL : 2.3401826484018264\n",
            "SHOPPING : 2.2488584474885847\n",
            "BOOKS_AND_REFERENCE : 2.146118721461187\n",
            "DATING : 1.860730593607306\n",
            "VIDEO_PLAYERS : 1.8036529680365299\n",
            "MAPS_AND_NAVIGATION : 1.3812785388127853\n",
            "FOOD_AND_DRINK : 1.2328767123287672\n",
            "EDUCATION : 1.1757990867579908\n",
            "ENTERTAINMENT : 0.9589041095890412\n",
            "AUTO_AND_VEHICLES : 0.9246575342465754\n",
            "LIBRARIES_AND_DEMO : 0.9018264840182649\n",
            "WEATHER : 0.7876712328767124\n",
            "HOUSE_AND_HOME : 0.7876712328767124\n",
            "EVENTS : 0.7191780821917808\n",
            "ART_AND_DESIGN : 0.6506849315068494\n",
            "PARENTING : 0.6392694063926941\n",
            "BEAUTY : 0.6050228310502284\n",
            "COMICS : 0.5821917808219178\n",
            "\n",
            "\n",
            "Tools : 8.470319634703197\n",
            "Entertainment : 6.084474885844749\n",
            "Education : 5.3881278538812785\n",
            "Business : 4.646118721461187\n",
            "Productivity : 3.9383561643835616\n",
            "Lifestyle : 3.904109589041096\n",
            "Finance : 3.721461187214612\n",
            "Medical : 3.550228310502283\n",
            "Sports : 3.4018264840182644\n",
            "Personalization : 3.287671232876712\n",
            "Communication : 3.2534246575342465\n",
            "Action : 3.105022831050228\n",
            "Health & Fitness : 3.093607305936073\n",
            "Photography : 2.9794520547945202\n",
            "News & Magazines : 2.808219178082192\n",
            "Social : 2.6484018264840183\n",
            "Travel & Local : 2.328767123287671\n",
            "Shopping : 2.2488584474885847\n",
            "Books & Reference : 2.146118721461187\n",
            "Simulation : 2.054794520547945\n",
            "Dating : 1.860730593607306\n",
            "Arcade : 1.82648401826484\n",
            "Video Players & Editors : 1.7808219178082192\n",
            "Casual : 1.7351598173515983\n",
            "Maps & Navigation : 1.3812785388127853\n",
            "Food & Drink : 1.2328767123287672\n",
            "Puzzle : 1.141552511415525\n",
            "Racing : 1.004566210045662\n",
            "Role Playing : 0.9474885844748858\n",
            "Strategy : 0.9246575342465754\n",
            "Auto & Vehicles : 0.9246575342465754\n",
            "Libraries & Demo : 0.9018264840182649\n",
            "Weather : 0.7876712328767124\n",
            "House & Home : 0.7876712328767124\n",
            "Events : 0.7191780821917808\n",
            "Adventure : 0.6621004566210046\n",
            "Beauty : 0.6050228310502284\n",
            "Art & Design : 0.6050228310502284\n",
            "Comics : 0.5707762557077625\n",
            "Parenting : 0.4908675799086758\n",
            "Card : 0.4452054794520548\n",
            "Casino : 0.410958904109589\n",
            "Trivia : 0.3995433789954338\n",
            "Educational;Education : 0.3995433789954338\n",
            "Board : 0.3881278538812785\n",
            "Educational : 0.3767123287671233\n",
            "Education;Education : 0.3424657534246575\n",
            "Word : 0.2511415525114155\n",
            "Casual;Pretend Play : 0.2397260273972603\n",
            "Music : 0.19406392694063926\n",
            "Puzzle;Brain Games : 0.17123287671232876\n",
            "Entertainment;Music & Video : 0.17123287671232876\n",
            "Racing;Action & Adventure : 0.14840182648401826\n",
            "Casual;Brain Games : 0.136986301369863\n",
            "Casual;Action & Adventure : 0.136986301369863\n",
            "Arcade;Action & Adventure : 0.12557077625570776\n",
            "Action;Action & Adventure : 0.10273972602739725\n",
            "Educational;Pretend Play : 0.091324200913242\n",
            "Simulation;Action & Adventure : 0.07990867579908677\n",
            "Parenting;Education : 0.07990867579908677\n",
            "Entertainment;Brain Games : 0.07990867579908677\n",
            "Casual;Creativity : 0.0684931506849315\n",
            "Art & Design;Creativity : 0.0684931506849315\n",
            "Parenting;Music & Video : 0.05707762557077625\n",
            "Educational;Brain Games : 0.05707762557077625\n",
            "Education;Pretend Play : 0.05707762557077625\n",
            "Board;Brain Games : 0.05707762557077625\n",
            "Role Playing;Pretend Play : 0.045662100456621\n",
            "Education;Creativity : 0.045662100456621\n",
            "Role Playing;Action & Adventure : 0.03424657534246575\n",
            "Puzzle;Action & Adventure : 0.03424657534246575\n",
            "Entertainment;Creativity : 0.03424657534246575\n",
            "Entertainment;Action & Adventure : 0.03424657534246575\n",
            "Educational;Creativity : 0.03424657534246575\n",
            "Educational;Action & Adventure : 0.03424657534246575\n",
            "Education;Music & Video : 0.03424657534246575\n",
            "Education;Brain Games : 0.03424657534246575\n",
            "Education;Action & Adventure : 0.03424657534246575\n",
            "Adventure;Action & Adventure : 0.03424657534246575\n",
            "Video Players & Editors;Music & Video : 0.0228310502283105\n",
            "Sports;Action & Adventure : 0.0228310502283105\n",
            "Simulation;Pretend Play : 0.0228310502283105\n",
            "Puzzle;Creativity : 0.0228310502283105\n",
            "Music;Music & Video : 0.0228310502283105\n",
            "Entertainment;Pretend Play : 0.0228310502283105\n",
            "Casual;Education : 0.0228310502283105\n",
            "Board;Action & Adventure : 0.0228310502283105\n",
            "Video Players & Editors;Creativity : 0.01141552511415525\n",
            "Trivia;Education : 0.01141552511415525\n",
            "Travel & Local;Action & Adventure : 0.01141552511415525\n",
            "Tools;Education : 0.01141552511415525\n",
            "Strategy;Education : 0.01141552511415525\n",
            "Strategy;Creativity : 0.01141552511415525\n",
            "Strategy;Action & Adventure : 0.01141552511415525\n",
            "Simulation;Education : 0.01141552511415525\n",
            "Role Playing;Brain Games : 0.01141552511415525\n",
            "Racing;Pretend Play : 0.01141552511415525\n",
            "Puzzle;Education : 0.01141552511415525\n",
            "Parenting;Brain Games : 0.01141552511415525\n",
            "Music & Audio;Music & Video : 0.01141552511415525\n",
            "Lifestyle;Pretend Play : 0.01141552511415525\n",
            "Lifestyle;Education : 0.01141552511415525\n",
            "Health & Fitness;Education : 0.01141552511415525\n",
            "Health & Fitness;Action & Adventure : 0.01141552511415525\n",
            "Entertainment;Education : 0.01141552511415525\n",
            "Communication;Creativity : 0.01141552511415525\n",
            "Comics;Creativity : 0.01141552511415525\n",
            "Card;Action & Adventure : 0.01141552511415525\n",
            "Books & Reference;Education : 0.01141552511415525\n",
            "Art & Design;Pretend Play : 0.01141552511415525\n",
            "Art & Design;Action & Adventure : 0.01141552511415525\n",
            "Arcade;Pretend Play : 0.01141552511415525\n",
            "Adventure;Education : 0.01141552511415525\n",
            "\n",
            "\n"
          ]
        }
      ]
    },
    {
      "cell_type": "markdown",
      "source": [
        "Most Popular by Genere"
      ],
      "metadata": {
        "id": "M3HXz005AxbE"
      }
    },
    {
      "cell_type": "code",
      "source": [
        "genres_ios = freq_table(ios_free, -5)\n",
        "\n",
        "for genre in genres_ios:\n",
        "    total = 0\n",
        "    len_genre = 0\n",
        "    for app in ios_free:\n",
        "        genre_app = app[-5]\n",
        "        if genre_app == genre:            \n",
        "            n_ratings = float(app[5])\n",
        "            total += n_ratings\n",
        "            len_genre += 1\n",
        "    avg_n_ratings = total / len_genre\n",
        "    print(genre, ':', avg_n_ratings)\n",
        "print('\\n')\n",
        "\n",
        "\n",
        "for app in ios_free:\n",
        "    if app[-5] == 'Navigation':\n",
        "        print(app[1], ':', app[5]) # print name and number of ratings"
      ],
      "metadata": {
        "colab": {
          "base_uri": "https://localhost:8080/"
        },
        "id": "l4mV1xM5AzqO",
        "outputId": "bbec995c-fcb7-4314-94fd-f4c31515db3f"
      },
      "execution_count": 34,
      "outputs": [
        {
          "output_type": "stream",
          "name": "stdout",
          "text": [
            "Social Networking : 72916.54807692308\n",
            "Photo & Video : 28441.54375\n",
            "Games : 22985.211320754715\n",
            "Music : 58205.03076923077\n",
            "Reference : 79350.4705882353\n",
            "Health & Fitness : 24037.634920634922\n",
            "Weather : 54215.2962962963\n",
            "Utilities : 19900.473684210527\n",
            "Travel : 31358.5\n",
            "Shopping : 27816.2\n",
            "News : 21750.071428571428\n",
            "Navigation : 86090.33333333333\n",
            "Lifestyle : 16739.34693877551\n",
            "Entertainment : 14364.774193548386\n",
            "Food & Drink : 33333.92307692308\n",
            "Sports : 23008.898550724636\n",
            "Book : 46384.916666666664\n",
            "Finance : 32367.02857142857\n",
            "Education : 7003.983050847458\n",
            "Productivity : 21799.14814814815\n",
            "Business : 7491.117647058823\n",
            "Catalogs : 4004.0\n",
            "Medical : 612.0\n",
            "\n",
            "\n",
            "Waze - GPS Navigation, Maps & Real-time Traffic : 345046\n",
            "Google Maps - Navigation & Transit : 154911\n",
            "GeocachingÂ® : 12811\n",
            "CoPilot GPS â€“ Car Navigation & Offline Maps : 3582\n",
            "ImmobilienScout24: Real Estate Search in Germany : 187\n",
            "Railway Route Search : 5\n"
          ]
        }
      ]
    },
    {
      "cell_type": "code",
      "source": [
        "for app in ios_free:\n",
        "    if app[-5] == 'Reference':\n",
        "        print(app[1], ':', app[5])\n",
        "\n"
      ],
      "metadata": {
        "colab": {
          "base_uri": "https://localhost:8080/"
        },
        "id": "MSf4qdX9ZwfM",
        "outputId": "ec7aa4c4-91f3-4acd-82d2-91f56c990b65"
      },
      "execution_count": 35,
      "outputs": [
        {
          "output_type": "stream",
          "name": "stdout",
          "text": [
            "Bible : 985920\n",
            "Dictionary.com Dictionary & Thesaurus : 200047\n",
            "Dictionary.com Dictionary & Thesaurus for iPad : 54175\n",
            "Google Translate : 26786\n",
            "Muslim Pro: Ramadan 2017 Prayer Times, Azan, Quran : 18418\n",
            "New Furniture Mods - Pocket Wiki & Game Tools for Minecraft PC Edition : 17588\n",
            "Merriam-Webster Dictionary : 16849\n",
            "Night Sky : 12122\n",
            "City Maps for Minecraft PE - The Best Maps for Minecraft Pocket Edition (MCPE) : 8535\n",
            "LUCKY BLOCK MOD â„¢ for Minecraft PC Edition - The Best Pocket Wiki & Mods Installer Tools : 4693\n",
            "GUNS MODS for Minecraft PC Edition - Mods Tools : 1497\n",
            "Guides for PokÃ©mon GO - Pokemon GO News and Cheats : 826\n",
            "WWDC : 762\n",
            "Horror Maps for Minecraft PE - Download The Scariest Maps for Minecraft Pocket Edition (MCPE) Free : 718\n",
            "VPN Express : 14\n",
            "Real Bike Traffic Rider Virtual Reality Glasses : 8\n",
            "Jishokun-Japanese English Dictionary & Translator : 0\n"
          ]
        }
      ]
    }
  ]
}